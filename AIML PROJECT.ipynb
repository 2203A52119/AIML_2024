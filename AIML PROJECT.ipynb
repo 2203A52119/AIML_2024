{
  "nbformat": 4,
  "nbformat_minor": 0,
  "metadata": {
    "colab": {
      "provenance": [],
      "toc_visible": true
    },
    "kernelspec": {
      "name": "python3",
      "display_name": "Python 3"
    },
    "language_info": {
      "name": "python"
    }
  },
  "cells": [
    {
      "cell_type": "code",
      "execution_count": 8,
      "metadata": {
        "id": "JV1RcEzN-0I2"
      },
      "outputs": [],
      "source": [
        "import numpy as np\n",
        "import pandas as pd\n",
        "import matplotlib.pyplot as plt\n",
        "import seaborn as sns\n",
        "from sklearn import svm"
      ]
    },
    {
      "cell_type": "code",
      "source": [
        "df=pd.read_csv(\"/content/loan.csv\")\n",
        "print(df)"
      ],
      "metadata": {
        "colab": {
          "base_uri": "https://localhost:8080/"
        },
        "id": "aduelcCfRrRg",
        "outputId": "a72957a3-2e4a-4187-8fdd-944af4b14b19"
      },
      "execution_count": 9,
      "outputs": [
        {
          "output_type": "stream",
          "name": "stdout",
          "text": [
            "      Loan_ID  Gender Married Dependents     Education Self_Employed  \\\n",
            "0    LP001002    Male      No          0      Graduate            No   \n",
            "1    LP001003    Male     Yes          1      Graduate            No   \n",
            "2    LP001005    Male     Yes          0      Graduate           Yes   \n",
            "3    LP001006    Male     Yes          0  Not Graduate            No   \n",
            "4    LP001008    Male      No          0      Graduate            No   \n",
            "..        ...     ...     ...        ...           ...           ...   \n",
            "609  LP002978  Female      No          0      Graduate            No   \n",
            "610  LP002979    Male     Yes         3+      Graduate            No   \n",
            "611  LP002983    Male     Yes          1      Graduate            No   \n",
            "612  LP002984    Male     Yes          2      Graduate            No   \n",
            "613  LP002990  Female      No          0      Graduate           Yes   \n",
            "\n",
            "     ApplicantIncome  CoapplicantIncome  LoanAmount  Loan_Amount_Term  \\\n",
            "0               5849                0.0         NaN             360.0   \n",
            "1               4583             1508.0       128.0             360.0   \n",
            "2               3000                0.0        66.0             360.0   \n",
            "3               2583             2358.0       120.0             360.0   \n",
            "4               6000                0.0       141.0             360.0   \n",
            "..               ...                ...         ...               ...   \n",
            "609             2900                0.0        71.0             360.0   \n",
            "610             4106                0.0        40.0             180.0   \n",
            "611             8072              240.0       253.0             360.0   \n",
            "612             7583                0.0       187.0             360.0   \n",
            "613             4583                0.0       133.0             360.0   \n",
            "\n",
            "     Credit_History Property_Area Loan_Status  \n",
            "0               1.0         Urban           Y  \n",
            "1               1.0         Rural           N  \n",
            "2               1.0         Urban           Y  \n",
            "3               1.0         Urban           Y  \n",
            "4               1.0         Urban           Y  \n",
            "..              ...           ...         ...  \n",
            "609             1.0         Rural           Y  \n",
            "610             1.0         Rural           Y  \n",
            "611             1.0         Urban           Y  \n",
            "612             1.0         Urban           Y  \n",
            "613             0.0     Semiurban           N  \n",
            "\n",
            "[614 rows x 13 columns]\n"
          ]
        }
      ]
    },
    {
      "cell_type": "code",
      "source": [
        "df.info()"
      ],
      "metadata": {
        "colab": {
          "base_uri": "https://localhost:8080/"
        },
        "id": "AYs5THtMTPpc",
        "outputId": "97f5371d-dca2-4a72-be39-ce55d7d3546d"
      },
      "execution_count": 11,
      "outputs": [
        {
          "output_type": "stream",
          "name": "stdout",
          "text": [
            "<class 'pandas.core.frame.DataFrame'>\n",
            "RangeIndex: 614 entries, 0 to 613\n",
            "Data columns (total 13 columns):\n",
            " #   Column             Non-Null Count  Dtype  \n",
            "---  ------             --------------  -----  \n",
            " 0   Loan_ID            614 non-null    object \n",
            " 1   Gender             601 non-null    object \n",
            " 2   Married            611 non-null    object \n",
            " 3   Dependents         599 non-null    object \n",
            " 4   Education          614 non-null    object \n",
            " 5   Self_Employed      582 non-null    object \n",
            " 6   ApplicantIncome    614 non-null    int64  \n",
            " 7   CoapplicantIncome  614 non-null    float64\n",
            " 8   LoanAmount         592 non-null    float64\n",
            " 9   Loan_Amount_Term   600 non-null    float64\n",
            " 10  Credit_History     564 non-null    float64\n",
            " 11  Property_Area      614 non-null    object \n",
            " 12  Loan_Status        614 non-null    object \n",
            "dtypes: float64(4), int64(1), object(8)\n",
            "memory usage: 62.5+ KB\n"
          ]
        }
      ]
    },
    {
      "cell_type": "code",
      "source": [
        "df.isnull().sum()"
      ],
      "metadata": {
        "colab": {
          "base_uri": "https://localhost:8080/"
        },
        "id": "5AchLAvvTbF1",
        "outputId": "b92c2638-811b-4166-b9ea-435618c6b7a6"
      },
      "execution_count": 12,
      "outputs": [
        {
          "output_type": "execute_result",
          "data": {
            "text/plain": [
              "Loan_ID               0\n",
              "Gender               13\n",
              "Married               3\n",
              "Dependents           15\n",
              "Education             0\n",
              "Self_Employed        32\n",
              "ApplicantIncome       0\n",
              "CoapplicantIncome     0\n",
              "LoanAmount           22\n",
              "Loan_Amount_Term     14\n",
              "Credit_History       50\n",
              "Property_Area         0\n",
              "Loan_Status           0\n",
              "dtype: int64"
            ]
          },
          "metadata": {},
          "execution_count": 12
        }
      ]
    },
    {
      "cell_type": "code",
      "source": [
        "df['Gender'].fillna(df['Gender'].mode()[0],inplace=True)\n",
        "df['Married'].fillna(df['Married'].mode()[0],inplace=True)\n",
        "df['Self_Employed'].fillna(df['Self_Employed'].mode()[0],inplace=True)\n",
        "df['Dependents'].fillna(df['Dependents'].mode()[0],inplace=True)\n",
        "df.LoanAmount=df.LoanAmount.fillna(df.LoanAmount.mean())\n",
        "df['Loan_Amount_Term'].fillna(df['Loan_Amount_Term'].mode()[0],inplace=True)\n",
        "df['Credit_History'].fillna(df['Credit_History'].mode()[0],inplace=True)\n",
        "df.isnull().sum()\n"
      ],
      "metadata": {
        "colab": {
          "base_uri": "https://localhost:8080/"
        },
        "id": "-hwMP_pnTpb9",
        "outputId": "bc11ca2c-46f5-44c2-a2b0-9bcfb828e890"
      },
      "execution_count": 13,
      "outputs": [
        {
          "output_type": "execute_result",
          "data": {
            "text/plain": [
              "Loan_ID              0\n",
              "Gender               0\n",
              "Married              0\n",
              "Dependents           0\n",
              "Education            0\n",
              "Self_Employed        0\n",
              "ApplicantIncome      0\n",
              "CoapplicantIncome    0\n",
              "LoanAmount           0\n",
              "Loan_Amount_Term     0\n",
              "Credit_History       0\n",
              "Property_Area        0\n",
              "Loan_Status          0\n",
              "dtype: int64"
            ]
          },
          "metadata": {},
          "execution_count": 13
        }
      ]
    },
    {
      "cell_type": "markdown",
      "source": [],
      "metadata": {
        "id": "-ZwRbnepW0IG"
      }
    },
    {
      "cell_type": "code",
      "source": [
        "df['LoanAmount_log']=np.log(df['LoanAmount'])\n",
        "df.isnull().sum()"
      ],
      "metadata": {
        "colab": {
          "base_uri": "https://localhost:8080/"
        },
        "id": "6aIiTduiW0v-",
        "outputId": "e675fe8f-75a5-431e-f0c7-733fc2af0997"
      },
      "execution_count": 14,
      "outputs": [
        {
          "output_type": "execute_result",
          "data": {
            "text/plain": [
              "Loan_ID              0\n",
              "Gender               0\n",
              "Married              0\n",
              "Dependents           0\n",
              "Education            0\n",
              "Self_Employed        0\n",
              "ApplicantIncome      0\n",
              "CoapplicantIncome    0\n",
              "LoanAmount           0\n",
              "Loan_Amount_Term     0\n",
              "Credit_History       0\n",
              "Property_Area        0\n",
              "Loan_Status          0\n",
              "LoanAmount_log       0\n",
              "dtype: int64"
            ]
          },
          "metadata": {},
          "execution_count": 14
        }
      ]
    },
    {
      "cell_type": "code",
      "source": [
        "df['TotalIncome']=df['ApplicantIncome']+df['CoapplicantIncome']\n",
        "df['TotalIncome_log']=np.log(df['TotalIncome'])\n",
        "df"
      ],
      "metadata": {
        "colab": {
          "base_uri": "https://localhost:8080/",
          "height": 461
        },
        "id": "Foo34PDnW1BW",
        "outputId": "e5538905-0543-45d9-8078-bc852618cc88"
      },
      "execution_count": 15,
      "outputs": [
        {
          "output_type": "execute_result",
          "data": {
            "text/plain": [
              "      Loan_ID  Gender Married Dependents     Education Self_Employed  \\\n",
              "0    LP001002    Male      No          0      Graduate            No   \n",
              "1    LP001003    Male     Yes          1      Graduate            No   \n",
              "2    LP001005    Male     Yes          0      Graduate           Yes   \n",
              "3    LP001006    Male     Yes          0  Not Graduate            No   \n",
              "4    LP001008    Male      No          0      Graduate            No   \n",
              "..        ...     ...     ...        ...           ...           ...   \n",
              "609  LP002978  Female      No          0      Graduate            No   \n",
              "610  LP002979    Male     Yes         3+      Graduate            No   \n",
              "611  LP002983    Male     Yes          1      Graduate            No   \n",
              "612  LP002984    Male     Yes          2      Graduate            No   \n",
              "613  LP002990  Female      No          0      Graduate           Yes   \n",
              "\n",
              "     ApplicantIncome  CoapplicantIncome  LoanAmount  Loan_Amount_Term  \\\n",
              "0               5849                0.0  146.412162             360.0   \n",
              "1               4583             1508.0  128.000000             360.0   \n",
              "2               3000                0.0   66.000000             360.0   \n",
              "3               2583             2358.0  120.000000             360.0   \n",
              "4               6000                0.0  141.000000             360.0   \n",
              "..               ...                ...         ...               ...   \n",
              "609             2900                0.0   71.000000             360.0   \n",
              "610             4106                0.0   40.000000             180.0   \n",
              "611             8072              240.0  253.000000             360.0   \n",
              "612             7583                0.0  187.000000             360.0   \n",
              "613             4583                0.0  133.000000             360.0   \n",
              "\n",
              "     Credit_History Property_Area Loan_Status  LoanAmount_log  TotalIncome  \\\n",
              "0               1.0         Urban           Y        4.986426       5849.0   \n",
              "1               1.0         Rural           N        4.852030       6091.0   \n",
              "2               1.0         Urban           Y        4.189655       3000.0   \n",
              "3               1.0         Urban           Y        4.787492       4941.0   \n",
              "4               1.0         Urban           Y        4.948760       6000.0   \n",
              "..              ...           ...         ...             ...          ...   \n",
              "609             1.0         Rural           Y        4.262680       2900.0   \n",
              "610             1.0         Rural           Y        3.688879       4106.0   \n",
              "611             1.0         Urban           Y        5.533389       8312.0   \n",
              "612             1.0         Urban           Y        5.231109       7583.0   \n",
              "613             0.0     Semiurban           N        4.890349       4583.0   \n",
              "\n",
              "     TotalIncome_log  \n",
              "0           8.674026  \n",
              "1           8.714568  \n",
              "2           8.006368  \n",
              "3           8.505323  \n",
              "4           8.699515  \n",
              "..               ...  \n",
              "609         7.972466  \n",
              "610         8.320205  \n",
              "611         9.025456  \n",
              "612         8.933664  \n",
              "613         8.430109  \n",
              "\n",
              "[614 rows x 16 columns]"
            ],
            "text/html": [
              "\n",
              "  <div id=\"df-acb76449-05b4-460b-9e87-4a593f42f2df\" class=\"colab-df-container\">\n",
              "    <div>\n",
              "<style scoped>\n",
              "    .dataframe tbody tr th:only-of-type {\n",
              "        vertical-align: middle;\n",
              "    }\n",
              "\n",
              "    .dataframe tbody tr th {\n",
              "        vertical-align: top;\n",
              "    }\n",
              "\n",
              "    .dataframe thead th {\n",
              "        text-align: right;\n",
              "    }\n",
              "</style>\n",
              "<table border=\"1\" class=\"dataframe\">\n",
              "  <thead>\n",
              "    <tr style=\"text-align: right;\">\n",
              "      <th></th>\n",
              "      <th>Loan_ID</th>\n",
              "      <th>Gender</th>\n",
              "      <th>Married</th>\n",
              "      <th>Dependents</th>\n",
              "      <th>Education</th>\n",
              "      <th>Self_Employed</th>\n",
              "      <th>ApplicantIncome</th>\n",
              "      <th>CoapplicantIncome</th>\n",
              "      <th>LoanAmount</th>\n",
              "      <th>Loan_Amount_Term</th>\n",
              "      <th>Credit_History</th>\n",
              "      <th>Property_Area</th>\n",
              "      <th>Loan_Status</th>\n",
              "      <th>LoanAmount_log</th>\n",
              "      <th>TotalIncome</th>\n",
              "      <th>TotalIncome_log</th>\n",
              "    </tr>\n",
              "  </thead>\n",
              "  <tbody>\n",
              "    <tr>\n",
              "      <th>0</th>\n",
              "      <td>LP001002</td>\n",
              "      <td>Male</td>\n",
              "      <td>No</td>\n",
              "      <td>0</td>\n",
              "      <td>Graduate</td>\n",
              "      <td>No</td>\n",
              "      <td>5849</td>\n",
              "      <td>0.0</td>\n",
              "      <td>146.412162</td>\n",
              "      <td>360.0</td>\n",
              "      <td>1.0</td>\n",
              "      <td>Urban</td>\n",
              "      <td>Y</td>\n",
              "      <td>4.986426</td>\n",
              "      <td>5849.0</td>\n",
              "      <td>8.674026</td>\n",
              "    </tr>\n",
              "    <tr>\n",
              "      <th>1</th>\n",
              "      <td>LP001003</td>\n",
              "      <td>Male</td>\n",
              "      <td>Yes</td>\n",
              "      <td>1</td>\n",
              "      <td>Graduate</td>\n",
              "      <td>No</td>\n",
              "      <td>4583</td>\n",
              "      <td>1508.0</td>\n",
              "      <td>128.000000</td>\n",
              "      <td>360.0</td>\n",
              "      <td>1.0</td>\n",
              "      <td>Rural</td>\n",
              "      <td>N</td>\n",
              "      <td>4.852030</td>\n",
              "      <td>6091.0</td>\n",
              "      <td>8.714568</td>\n",
              "    </tr>\n",
              "    <tr>\n",
              "      <th>2</th>\n",
              "      <td>LP001005</td>\n",
              "      <td>Male</td>\n",
              "      <td>Yes</td>\n",
              "      <td>0</td>\n",
              "      <td>Graduate</td>\n",
              "      <td>Yes</td>\n",
              "      <td>3000</td>\n",
              "      <td>0.0</td>\n",
              "      <td>66.000000</td>\n",
              "      <td>360.0</td>\n",
              "      <td>1.0</td>\n",
              "      <td>Urban</td>\n",
              "      <td>Y</td>\n",
              "      <td>4.189655</td>\n",
              "      <td>3000.0</td>\n",
              "      <td>8.006368</td>\n",
              "    </tr>\n",
              "    <tr>\n",
              "      <th>3</th>\n",
              "      <td>LP001006</td>\n",
              "      <td>Male</td>\n",
              "      <td>Yes</td>\n",
              "      <td>0</td>\n",
              "      <td>Not Graduate</td>\n",
              "      <td>No</td>\n",
              "      <td>2583</td>\n",
              "      <td>2358.0</td>\n",
              "      <td>120.000000</td>\n",
              "      <td>360.0</td>\n",
              "      <td>1.0</td>\n",
              "      <td>Urban</td>\n",
              "      <td>Y</td>\n",
              "      <td>4.787492</td>\n",
              "      <td>4941.0</td>\n",
              "      <td>8.505323</td>\n",
              "    </tr>\n",
              "    <tr>\n",
              "      <th>4</th>\n",
              "      <td>LP001008</td>\n",
              "      <td>Male</td>\n",
              "      <td>No</td>\n",
              "      <td>0</td>\n",
              "      <td>Graduate</td>\n",
              "      <td>No</td>\n",
              "      <td>6000</td>\n",
              "      <td>0.0</td>\n",
              "      <td>141.000000</td>\n",
              "      <td>360.0</td>\n",
              "      <td>1.0</td>\n",
              "      <td>Urban</td>\n",
              "      <td>Y</td>\n",
              "      <td>4.948760</td>\n",
              "      <td>6000.0</td>\n",
              "      <td>8.699515</td>\n",
              "    </tr>\n",
              "    <tr>\n",
              "      <th>...</th>\n",
              "      <td>...</td>\n",
              "      <td>...</td>\n",
              "      <td>...</td>\n",
              "      <td>...</td>\n",
              "      <td>...</td>\n",
              "      <td>...</td>\n",
              "      <td>...</td>\n",
              "      <td>...</td>\n",
              "      <td>...</td>\n",
              "      <td>...</td>\n",
              "      <td>...</td>\n",
              "      <td>...</td>\n",
              "      <td>...</td>\n",
              "      <td>...</td>\n",
              "      <td>...</td>\n",
              "      <td>...</td>\n",
              "    </tr>\n",
              "    <tr>\n",
              "      <th>609</th>\n",
              "      <td>LP002978</td>\n",
              "      <td>Female</td>\n",
              "      <td>No</td>\n",
              "      <td>0</td>\n",
              "      <td>Graduate</td>\n",
              "      <td>No</td>\n",
              "      <td>2900</td>\n",
              "      <td>0.0</td>\n",
              "      <td>71.000000</td>\n",
              "      <td>360.0</td>\n",
              "      <td>1.0</td>\n",
              "      <td>Rural</td>\n",
              "      <td>Y</td>\n",
              "      <td>4.262680</td>\n",
              "      <td>2900.0</td>\n",
              "      <td>7.972466</td>\n",
              "    </tr>\n",
              "    <tr>\n",
              "      <th>610</th>\n",
              "      <td>LP002979</td>\n",
              "      <td>Male</td>\n",
              "      <td>Yes</td>\n",
              "      <td>3+</td>\n",
              "      <td>Graduate</td>\n",
              "      <td>No</td>\n",
              "      <td>4106</td>\n",
              "      <td>0.0</td>\n",
              "      <td>40.000000</td>\n",
              "      <td>180.0</td>\n",
              "      <td>1.0</td>\n",
              "      <td>Rural</td>\n",
              "      <td>Y</td>\n",
              "      <td>3.688879</td>\n",
              "      <td>4106.0</td>\n",
              "      <td>8.320205</td>\n",
              "    </tr>\n",
              "    <tr>\n",
              "      <th>611</th>\n",
              "      <td>LP002983</td>\n",
              "      <td>Male</td>\n",
              "      <td>Yes</td>\n",
              "      <td>1</td>\n",
              "      <td>Graduate</td>\n",
              "      <td>No</td>\n",
              "      <td>8072</td>\n",
              "      <td>240.0</td>\n",
              "      <td>253.000000</td>\n",
              "      <td>360.0</td>\n",
              "      <td>1.0</td>\n",
              "      <td>Urban</td>\n",
              "      <td>Y</td>\n",
              "      <td>5.533389</td>\n",
              "      <td>8312.0</td>\n",
              "      <td>9.025456</td>\n",
              "    </tr>\n",
              "    <tr>\n",
              "      <th>612</th>\n",
              "      <td>LP002984</td>\n",
              "      <td>Male</td>\n",
              "      <td>Yes</td>\n",
              "      <td>2</td>\n",
              "      <td>Graduate</td>\n",
              "      <td>No</td>\n",
              "      <td>7583</td>\n",
              "      <td>0.0</td>\n",
              "      <td>187.000000</td>\n",
              "      <td>360.0</td>\n",
              "      <td>1.0</td>\n",
              "      <td>Urban</td>\n",
              "      <td>Y</td>\n",
              "      <td>5.231109</td>\n",
              "      <td>7583.0</td>\n",
              "      <td>8.933664</td>\n",
              "    </tr>\n",
              "    <tr>\n",
              "      <th>613</th>\n",
              "      <td>LP002990</td>\n",
              "      <td>Female</td>\n",
              "      <td>No</td>\n",
              "      <td>0</td>\n",
              "      <td>Graduate</td>\n",
              "      <td>Yes</td>\n",
              "      <td>4583</td>\n",
              "      <td>0.0</td>\n",
              "      <td>133.000000</td>\n",
              "      <td>360.0</td>\n",
              "      <td>0.0</td>\n",
              "      <td>Semiurban</td>\n",
              "      <td>N</td>\n",
              "      <td>4.890349</td>\n",
              "      <td>4583.0</td>\n",
              "      <td>8.430109</td>\n",
              "    </tr>\n",
              "  </tbody>\n",
              "</table>\n",
              "<p>614 rows × 16 columns</p>\n",
              "</div>\n",
              "    <div class=\"colab-df-buttons\">\n",
              "\n",
              "  <div class=\"colab-df-container\">\n",
              "    <button class=\"colab-df-convert\" onclick=\"convertToInteractive('df-acb76449-05b4-460b-9e87-4a593f42f2df')\"\n",
              "            title=\"Convert this dataframe to an interactive table.\"\n",
              "            style=\"display:none;\">\n",
              "\n",
              "  <svg xmlns=\"http://www.w3.org/2000/svg\" height=\"24px\" viewBox=\"0 -960 960 960\">\n",
              "    <path d=\"M120-120v-720h720v720H120Zm60-500h600v-160H180v160Zm220 220h160v-160H400v160Zm0 220h160v-160H400v160ZM180-400h160v-160H180v160Zm440 0h160v-160H620v160ZM180-180h160v-160H180v160Zm440 0h160v-160H620v160Z\"/>\n",
              "  </svg>\n",
              "    </button>\n",
              "\n",
              "  <style>\n",
              "    .colab-df-container {\n",
              "      display:flex;\n",
              "      gap: 12px;\n",
              "    }\n",
              "\n",
              "    .colab-df-convert {\n",
              "      background-color: #E8F0FE;\n",
              "      border: none;\n",
              "      border-radius: 50%;\n",
              "      cursor: pointer;\n",
              "      display: none;\n",
              "      fill: #1967D2;\n",
              "      height: 32px;\n",
              "      padding: 0 0 0 0;\n",
              "      width: 32px;\n",
              "    }\n",
              "\n",
              "    .colab-df-convert:hover {\n",
              "      background-color: #E2EBFA;\n",
              "      box-shadow: 0px 1px 2px rgba(60, 64, 67, 0.3), 0px 1px 3px 1px rgba(60, 64, 67, 0.15);\n",
              "      fill: #174EA6;\n",
              "    }\n",
              "\n",
              "    .colab-df-buttons div {\n",
              "      margin-bottom: 4px;\n",
              "    }\n",
              "\n",
              "    [theme=dark] .colab-df-convert {\n",
              "      background-color: #3B4455;\n",
              "      fill: #D2E3FC;\n",
              "    }\n",
              "\n",
              "    [theme=dark] .colab-df-convert:hover {\n",
              "      background-color: #434B5C;\n",
              "      box-shadow: 0px 1px 3px 1px rgba(0, 0, 0, 0.15);\n",
              "      filter: drop-shadow(0px 1px 2px rgba(0, 0, 0, 0.3));\n",
              "      fill: #FFFFFF;\n",
              "    }\n",
              "  </style>\n",
              "\n",
              "    <script>\n",
              "      const buttonEl =\n",
              "        document.querySelector('#df-acb76449-05b4-460b-9e87-4a593f42f2df button.colab-df-convert');\n",
              "      buttonEl.style.display =\n",
              "        google.colab.kernel.accessAllowed ? 'block' : 'none';\n",
              "\n",
              "      async function convertToInteractive(key) {\n",
              "        const element = document.querySelector('#df-acb76449-05b4-460b-9e87-4a593f42f2df');\n",
              "        const dataTable =\n",
              "          await google.colab.kernel.invokeFunction('convertToInteractive',\n",
              "                                                    [key], {});\n",
              "        if (!dataTable) return;\n",
              "\n",
              "        const docLinkHtml = 'Like what you see? Visit the ' +\n",
              "          '<a target=\"_blank\" href=https://colab.research.google.com/notebooks/data_table.ipynb>data table notebook</a>'\n",
              "          + ' to learn more about interactive tables.';\n",
              "        element.innerHTML = '';\n",
              "        dataTable['output_type'] = 'display_data';\n",
              "        await google.colab.output.renderOutput(dataTable, element);\n",
              "        const docLink = document.createElement('div');\n",
              "        docLink.innerHTML = docLinkHtml;\n",
              "        element.appendChild(docLink);\n",
              "      }\n",
              "    </script>\n",
              "  </div>\n",
              "\n",
              "\n",
              "<div id=\"df-4c398f0f-9b5c-4ba0-bf33-8cb4afa7d2bb\">\n",
              "  <button class=\"colab-df-quickchart\" onclick=\"quickchart('df-4c398f0f-9b5c-4ba0-bf33-8cb4afa7d2bb')\"\n",
              "            title=\"Suggest charts\"\n",
              "            style=\"display:none;\">\n",
              "\n",
              "<svg xmlns=\"http://www.w3.org/2000/svg\" height=\"24px\"viewBox=\"0 0 24 24\"\n",
              "     width=\"24px\">\n",
              "    <g>\n",
              "        <path d=\"M19 3H5c-1.1 0-2 .9-2 2v14c0 1.1.9 2 2 2h14c1.1 0 2-.9 2-2V5c0-1.1-.9-2-2-2zM9 17H7v-7h2v7zm4 0h-2V7h2v10zm4 0h-2v-4h2v4z\"/>\n",
              "    </g>\n",
              "</svg>\n",
              "  </button>\n",
              "\n",
              "<style>\n",
              "  .colab-df-quickchart {\n",
              "      --bg-color: #E8F0FE;\n",
              "      --fill-color: #1967D2;\n",
              "      --hover-bg-color: #E2EBFA;\n",
              "      --hover-fill-color: #174EA6;\n",
              "      --disabled-fill-color: #AAA;\n",
              "      --disabled-bg-color: #DDD;\n",
              "  }\n",
              "\n",
              "  [theme=dark] .colab-df-quickchart {\n",
              "      --bg-color: #3B4455;\n",
              "      --fill-color: #D2E3FC;\n",
              "      --hover-bg-color: #434B5C;\n",
              "      --hover-fill-color: #FFFFFF;\n",
              "      --disabled-bg-color: #3B4455;\n",
              "      --disabled-fill-color: #666;\n",
              "  }\n",
              "\n",
              "  .colab-df-quickchart {\n",
              "    background-color: var(--bg-color);\n",
              "    border: none;\n",
              "    border-radius: 50%;\n",
              "    cursor: pointer;\n",
              "    display: none;\n",
              "    fill: var(--fill-color);\n",
              "    height: 32px;\n",
              "    padding: 0;\n",
              "    width: 32px;\n",
              "  }\n",
              "\n",
              "  .colab-df-quickchart:hover {\n",
              "    background-color: var(--hover-bg-color);\n",
              "    box-shadow: 0 1px 2px rgba(60, 64, 67, 0.3), 0 1px 3px 1px rgba(60, 64, 67, 0.15);\n",
              "    fill: var(--button-hover-fill-color);\n",
              "  }\n",
              "\n",
              "  .colab-df-quickchart-complete:disabled,\n",
              "  .colab-df-quickchart-complete:disabled:hover {\n",
              "    background-color: var(--disabled-bg-color);\n",
              "    fill: var(--disabled-fill-color);\n",
              "    box-shadow: none;\n",
              "  }\n",
              "\n",
              "  .colab-df-spinner {\n",
              "    border: 2px solid var(--fill-color);\n",
              "    border-color: transparent;\n",
              "    border-bottom-color: var(--fill-color);\n",
              "    animation:\n",
              "      spin 1s steps(1) infinite;\n",
              "  }\n",
              "\n",
              "  @keyframes spin {\n",
              "    0% {\n",
              "      border-color: transparent;\n",
              "      border-bottom-color: var(--fill-color);\n",
              "      border-left-color: var(--fill-color);\n",
              "    }\n",
              "    20% {\n",
              "      border-color: transparent;\n",
              "      border-left-color: var(--fill-color);\n",
              "      border-top-color: var(--fill-color);\n",
              "    }\n",
              "    30% {\n",
              "      border-color: transparent;\n",
              "      border-left-color: var(--fill-color);\n",
              "      border-top-color: var(--fill-color);\n",
              "      border-right-color: var(--fill-color);\n",
              "    }\n",
              "    40% {\n",
              "      border-color: transparent;\n",
              "      border-right-color: var(--fill-color);\n",
              "      border-top-color: var(--fill-color);\n",
              "    }\n",
              "    60% {\n",
              "      border-color: transparent;\n",
              "      border-right-color: var(--fill-color);\n",
              "    }\n",
              "    80% {\n",
              "      border-color: transparent;\n",
              "      border-right-color: var(--fill-color);\n",
              "      border-bottom-color: var(--fill-color);\n",
              "    }\n",
              "    90% {\n",
              "      border-color: transparent;\n",
              "      border-bottom-color: var(--fill-color);\n",
              "    }\n",
              "  }\n",
              "</style>\n",
              "\n",
              "  <script>\n",
              "    async function quickchart(key) {\n",
              "      const quickchartButtonEl =\n",
              "        document.querySelector('#' + key + ' button');\n",
              "      quickchartButtonEl.disabled = true;  // To prevent multiple clicks.\n",
              "      quickchartButtonEl.classList.add('colab-df-spinner');\n",
              "      try {\n",
              "        const charts = await google.colab.kernel.invokeFunction(\n",
              "            'suggestCharts', [key], {});\n",
              "      } catch (error) {\n",
              "        console.error('Error during call to suggestCharts:', error);\n",
              "      }\n",
              "      quickchartButtonEl.classList.remove('colab-df-spinner');\n",
              "      quickchartButtonEl.classList.add('colab-df-quickchart-complete');\n",
              "    }\n",
              "    (() => {\n",
              "      let quickchartButtonEl =\n",
              "        document.querySelector('#df-4c398f0f-9b5c-4ba0-bf33-8cb4afa7d2bb button');\n",
              "      quickchartButtonEl.style.display =\n",
              "        google.colab.kernel.accessAllowed ? 'block' : 'none';\n",
              "    })();\n",
              "  </script>\n",
              "</div>\n",
              "    </div>\n",
              "  </div>\n"
            ],
            "application/vnd.google.colaboratory.intrinsic+json": {
              "type": "dataframe",
              "variable_name": "df",
              "summary": "{\n  \"name\": \"df\",\n  \"rows\": 614,\n  \"fields\": [\n    {\n      \"column\": \"Loan_ID\",\n      \"properties\": {\n        \"dtype\": \"string\",\n        \"num_unique_values\": 614,\n        \"samples\": [\n          \"LP002139\",\n          \"LP002223\",\n          \"LP001570\"\n        ],\n        \"semantic_type\": \"\",\n        \"description\": \"\"\n      }\n    },\n    {\n      \"column\": \"Gender\",\n      \"properties\": {\n        \"dtype\": \"category\",\n        \"num_unique_values\": 2,\n        \"samples\": [\n          \"Female\",\n          \"Male\"\n        ],\n        \"semantic_type\": \"\",\n        \"description\": \"\"\n      }\n    },\n    {\n      \"column\": \"Married\",\n      \"properties\": {\n        \"dtype\": \"category\",\n        \"num_unique_values\": 2,\n        \"samples\": [\n          \"Yes\",\n          \"No\"\n        ],\n        \"semantic_type\": \"\",\n        \"description\": \"\"\n      }\n    },\n    {\n      \"column\": \"Dependents\",\n      \"properties\": {\n        \"dtype\": \"category\",\n        \"num_unique_values\": 4,\n        \"samples\": [\n          \"1\",\n          \"3+\"\n        ],\n        \"semantic_type\": \"\",\n        \"description\": \"\"\n      }\n    },\n    {\n      \"column\": \"Education\",\n      \"properties\": {\n        \"dtype\": \"category\",\n        \"num_unique_values\": 2,\n        \"samples\": [\n          \"Not Graduate\",\n          \"Graduate\"\n        ],\n        \"semantic_type\": \"\",\n        \"description\": \"\"\n      }\n    },\n    {\n      \"column\": \"Self_Employed\",\n      \"properties\": {\n        \"dtype\": \"category\",\n        \"num_unique_values\": 2,\n        \"samples\": [\n          \"Yes\",\n          \"No\"\n        ],\n        \"semantic_type\": \"\",\n        \"description\": \"\"\n      }\n    },\n    {\n      \"column\": \"ApplicantIncome\",\n      \"properties\": {\n        \"dtype\": \"number\",\n        \"std\": 6109,\n        \"min\": 150,\n        \"max\": 81000,\n        \"num_unique_values\": 505,\n        \"samples\": [\n          8333,\n          4342\n        ],\n        \"semantic_type\": \"\",\n        \"description\": \"\"\n      }\n    },\n    {\n      \"column\": \"CoapplicantIncome\",\n      \"properties\": {\n        \"dtype\": \"number\",\n        \"std\": 2926.2483692241885,\n        \"min\": 0.0,\n        \"max\": 41667.0,\n        \"num_unique_values\": 287,\n        \"samples\": [\n          1840.0,\n          2042.0\n        ],\n        \"semantic_type\": \"\",\n        \"description\": \"\"\n      }\n    },\n    {\n      \"column\": \"LoanAmount\",\n      \"properties\": {\n        \"dtype\": \"number\",\n        \"std\": 84.03746768319648,\n        \"min\": 9.0,\n        \"max\": 700.0,\n        \"num_unique_values\": 204,\n        \"samples\": [\n          125.0,\n          349.0\n        ],\n        \"semantic_type\": \"\",\n        \"description\": \"\"\n      }\n    },\n    {\n      \"column\": \"Loan_Amount_Term\",\n      \"properties\": {\n        \"dtype\": \"number\",\n        \"std\": 64.42862906767307,\n        \"min\": 12.0,\n        \"max\": 480.0,\n        \"num_unique_values\": 10,\n        \"samples\": [\n          84.0,\n          120.0\n        ],\n        \"semantic_type\": \"\",\n        \"description\": \"\"\n      }\n    },\n    {\n      \"column\": \"Credit_History\",\n      \"properties\": {\n        \"dtype\": \"number\",\n        \"std\": 0.3523386063582998,\n        \"min\": 0.0,\n        \"max\": 1.0,\n        \"num_unique_values\": 2,\n        \"samples\": [\n          0.0,\n          1.0\n        ],\n        \"semantic_type\": \"\",\n        \"description\": \"\"\n      }\n    },\n    {\n      \"column\": \"Property_Area\",\n      \"properties\": {\n        \"dtype\": \"category\",\n        \"num_unique_values\": 3,\n        \"samples\": [\n          \"Urban\",\n          \"Rural\"\n        ],\n        \"semantic_type\": \"\",\n        \"description\": \"\"\n      }\n    },\n    {\n      \"column\": \"Loan_Status\",\n      \"properties\": {\n        \"dtype\": \"category\",\n        \"num_unique_values\": 2,\n        \"samples\": [\n          \"N\",\n          \"Y\"\n        ],\n        \"semantic_type\": \"\",\n        \"description\": \"\"\n      }\n    },\n    {\n      \"column\": \"LoanAmount_log\",\n      \"properties\": {\n        \"dtype\": \"number\",\n        \"std\": 0.49657468337900457,\n        \"min\": 2.1972245773362196,\n        \"max\": 6.551080335043404,\n        \"num_unique_values\": 204,\n        \"samples\": [\n          4.8283137373023015,\n          5.855071922202427\n        ],\n        \"semantic_type\": \"\",\n        \"description\": \"\"\n      }\n    },\n    {\n      \"column\": \"TotalIncome\",\n      \"properties\": {\n        \"dtype\": \"number\",\n        \"std\": 6458.66387219434,\n        \"min\": 1442.0,\n        \"max\": 81000.0,\n        \"num_unique_values\": 554,\n        \"samples\": [\n          3988.0,\n          3259.0\n        ],\n        \"semantic_type\": \"\",\n        \"description\": \"\"\n      }\n    },\n    {\n      \"column\": \"TotalIncome_log\",\n      \"properties\": {\n        \"dtype\": \"number\",\n        \"std\": 0.5451015367192203,\n        \"min\": 7.273786317844895,\n        \"max\": 11.302204433654575,\n        \"num_unique_values\": 554,\n        \"samples\": [\n          8.291045131081729,\n          8.089175678837561\n        ],\n        \"semantic_type\": \"\",\n        \"description\": \"\"\n      }\n    }\n  ]\n}"
            }
          },
          "metadata": {},
          "execution_count": 15
        }
      ]
    },
    {
      "cell_type": "code",
      "source": [
        "x=df.iloc[:,np.r_[1:5,9:11,13:15]].values\n",
        "y=df.iloc[:,12].values\n",
        "x"
      ],
      "metadata": {
        "colab": {
          "base_uri": "https://localhost:8080/"
        },
        "id": "nOF8tnH7W1Q1",
        "outputId": "9430c714-6901-4234-e0d7-264ce9339689"
      },
      "execution_count": 16,
      "outputs": [
        {
          "output_type": "execute_result",
          "data": {
            "text/plain": [
              "array([['Male', 'No', '0', ..., 1.0, 4.986425672954842, 5849.0],\n",
              "       ['Male', 'Yes', '1', ..., 1.0, 4.852030263919617, 6091.0],\n",
              "       ['Male', 'Yes', '0', ..., 1.0, 4.189654742026425, 3000.0],\n",
              "       ...,\n",
              "       ['Male', 'Yes', '1', ..., 1.0, 5.53338948872752, 8312.0],\n",
              "       ['Male', 'Yes', '2', ..., 1.0, 5.231108616854587, 7583.0],\n",
              "       ['Female', 'No', '0', ..., 0.0, 4.890349128221754, 4583.0]],\n",
              "      dtype=object)"
            ]
          },
          "metadata": {},
          "execution_count": 16
        }
      ]
    },
    {
      "cell_type": "code",
      "source": [
        "y"
      ],
      "metadata": {
        "colab": {
          "base_uri": "https://localhost:8080/"
        },
        "id": "CQ7Xcb9NW1pI",
        "outputId": "f8397f04-a935-4e9c-a04b-9ba48258641f"
      },
      "execution_count": 17,
      "outputs": [
        {
          "output_type": "execute_result",
          "data": {
            "text/plain": [
              "array(['Y', 'N', 'Y', 'Y', 'Y', 'Y', 'Y', 'N', 'Y', 'N', 'Y', 'Y', 'Y',\n",
              "       'N', 'Y', 'Y', 'Y', 'N', 'N', 'Y', 'N', 'Y', 'N', 'N', 'N', 'Y',\n",
              "       'Y', 'Y', 'N', 'Y', 'N', 'N', 'N', 'Y', 'N', 'Y', 'N', 'Y', 'Y',\n",
              "       'Y', 'N', 'Y', 'Y', 'Y', 'Y', 'Y', 'Y', 'Y', 'N', 'Y', 'Y', 'Y',\n",
              "       'N', 'N', 'N', 'Y', 'Y', 'N', 'Y', 'Y', 'Y', 'Y', 'N', 'N', 'N',\n",
              "       'N', 'N', 'Y', 'Y', 'N', 'Y', 'Y', 'Y', 'N', 'Y', 'N', 'N', 'N',\n",
              "       'N', 'Y', 'Y', 'Y', 'N', 'N', 'Y', 'Y', 'Y', 'Y', 'Y', 'Y', 'Y',\n",
              "       'Y', 'Y', 'Y', 'Y', 'N', 'Y', 'Y', 'Y', 'Y', 'Y', 'Y', 'Y', 'Y',\n",
              "       'Y', 'Y', 'Y', 'N', 'N', 'Y', 'Y', 'Y', 'N', 'Y', 'Y', 'Y', 'Y',\n",
              "       'Y', 'N', 'Y', 'Y', 'Y', 'Y', 'Y', 'Y', 'Y', 'Y', 'Y', 'N', 'N',\n",
              "       'Y', 'Y', 'Y', 'Y', 'Y', 'N', 'N', 'Y', 'N', 'N', 'N', 'Y', 'Y',\n",
              "       'Y', 'Y', 'Y', 'Y', 'Y', 'N', 'Y', 'N', 'Y', 'N', 'N', 'Y', 'Y',\n",
              "       'Y', 'Y', 'Y', 'Y', 'Y', 'N', 'N', 'Y', 'Y', 'Y', 'N', 'Y', 'N',\n",
              "       'Y', 'Y', 'Y', 'N', 'Y', 'N', 'Y', 'Y', 'N', 'Y', 'N', 'N', 'N',\n",
              "       'Y', 'N', 'Y', 'Y', 'N', 'Y', 'Y', 'Y', 'Y', 'N', 'N', 'Y', 'Y',\n",
              "       'N', 'Y', 'Y', 'Y', 'N', 'Y', 'Y', 'N', 'Y', 'Y', 'Y', 'Y', 'Y',\n",
              "       'Y', 'N', 'N', 'N', 'Y', 'Y', 'Y', 'Y', 'N', 'Y', 'N', 'Y', 'N',\n",
              "       'Y', 'Y', 'Y', 'Y', 'N', 'N', 'Y', 'Y', 'Y', 'Y', 'Y', 'Y', 'Y',\n",
              "       'Y', 'Y', 'N', 'Y', 'Y', 'Y', 'Y', 'N', 'Y', 'Y', 'Y', 'N', 'Y',\n",
              "       'Y', 'Y', 'Y', 'N', 'N', 'Y', 'Y', 'N', 'Y', 'N', 'N', 'N', 'N',\n",
              "       'Y', 'Y', 'N', 'Y', 'Y', 'Y', 'Y', 'Y', 'N', 'Y', 'Y', 'Y', 'Y',\n",
              "       'Y', 'Y', 'Y', 'Y', 'Y', 'Y', 'Y', 'N', 'Y', 'Y', 'Y', 'N', 'Y',\n",
              "       'N', 'Y', 'Y', 'Y', 'Y', 'N', 'Y', 'N', 'Y', 'Y', 'Y', 'Y', 'N',\n",
              "       'N', 'N', 'Y', 'Y', 'Y', 'Y', 'N', 'Y', 'N', 'N', 'Y', 'Y', 'Y',\n",
              "       'Y', 'Y', 'N', 'Y', 'Y', 'Y', 'Y', 'N', 'Y', 'Y', 'Y', 'Y', 'Y',\n",
              "       'N', 'Y', 'Y', 'N', 'Y', 'Y', 'Y', 'Y', 'Y', 'Y', 'Y', 'Y', 'Y',\n",
              "       'N', 'Y', 'N', 'N', 'Y', 'Y', 'Y', 'Y', 'N', 'Y', 'Y', 'Y', 'Y',\n",
              "       'N', 'Y', 'N', 'Y', 'Y', 'Y', 'N', 'N', 'Y', 'N', 'Y', 'Y', 'Y',\n",
              "       'Y', 'N', 'N', 'N', 'Y', 'N', 'Y', 'Y', 'Y', 'N', 'Y', 'Y', 'Y',\n",
              "       'Y', 'N', 'Y', 'Y', 'Y', 'Y', 'Y', 'N', 'Y', 'Y', 'N', 'Y', 'Y',\n",
              "       'Y', 'Y', 'Y', 'Y', 'Y', 'Y', 'N', 'Y', 'Y', 'N', 'N', 'N', 'Y',\n",
              "       'Y', 'N', 'Y', 'Y', 'Y', 'N', 'N', 'N', 'Y', 'N', 'Y', 'N', 'Y',\n",
              "       'N', 'N', 'Y', 'Y', 'Y', 'N', 'Y', 'N', 'Y', 'Y', 'N', 'Y', 'Y',\n",
              "       'Y', 'Y', 'N', 'Y', 'Y', 'Y', 'Y', 'Y', 'Y', 'N', 'Y', 'Y', 'Y',\n",
              "       'Y', 'Y', 'Y', 'Y', 'Y', 'N', 'N', 'N', 'N', 'Y', 'N', 'Y', 'Y',\n",
              "       'Y', 'Y', 'N', 'Y', 'N', 'Y', 'Y', 'Y', 'Y', 'N', 'Y', 'N', 'Y',\n",
              "       'Y', 'N', 'Y', 'N', 'Y', 'Y', 'Y', 'Y', 'Y', 'N', 'Y', 'N', 'Y',\n",
              "       'Y', 'Y', 'Y', 'Y', 'Y', 'N', 'N', 'Y', 'N', 'Y', 'Y', 'Y', 'Y',\n",
              "       'N', 'Y', 'Y', 'Y', 'Y', 'N', 'Y', 'Y', 'Y', 'N', 'Y', 'Y', 'Y',\n",
              "       'N', 'Y', 'Y', 'N', 'Y', 'Y', 'N', 'N', 'Y', 'Y', 'N', 'N', 'N',\n",
              "       'Y', 'Y', 'Y', 'Y', 'N', 'Y', 'Y', 'Y', 'Y', 'Y', 'Y', 'Y', 'N',\n",
              "       'N', 'Y', 'Y', 'Y', 'Y', 'N', 'Y', 'Y', 'N', 'Y', 'Y', 'Y', 'Y',\n",
              "       'N', 'Y', 'N', 'Y', 'N', 'Y', 'Y', 'N', 'N', 'Y', 'Y', 'Y', 'Y',\n",
              "       'Y', 'Y', 'Y', 'Y', 'Y', 'N', 'Y', 'Y', 'N', 'N', 'N', 'Y', 'N',\n",
              "       'Y', 'N', 'N', 'Y', 'N', 'Y', 'Y', 'Y', 'Y', 'N', 'Y', 'N', 'N',\n",
              "       'N', 'Y', 'Y', 'Y', 'N', 'Y', 'N', 'Y', 'Y', 'Y', 'Y', 'N', 'N',\n",
              "       'Y', 'Y', 'N', 'Y', 'Y', 'Y', 'Y', 'N', 'Y', 'Y', 'Y', 'Y', 'Y',\n",
              "       'Y', 'Y', 'N'], dtype=object)"
            ]
          },
          "metadata": {},
          "execution_count": 17
        }
      ]
    },
    {
      "cell_type": "code",
      "source": [
        "from sklearn.model_selection import train_test_split\n",
        "X_train,X_test,y_train,y_test= train_test_split(x,y,test_size=0.2,random_state=0)"
      ],
      "metadata": {
        "id": "T7V_3HefW1yA"
      },
      "execution_count": 18,
      "outputs": []
    },
    {
      "cell_type": "code",
      "source": [
        "print(X_train)"
      ],
      "metadata": {
        "colab": {
          "base_uri": "https://localhost:8080/"
        },
        "id": "S1ycCadgW15s",
        "outputId": "89286447-2477-477a-ff6d-24f0a61c63f3"
      },
      "execution_count": 19,
      "outputs": [
        {
          "output_type": "stream",
          "name": "stdout",
          "text": [
            "[['Male' 'Yes' '0' ... 1.0 4.875197323201151 5858.0]\n",
            " ['Male' 'No' '1' ... 1.0 5.278114659230517 11250.0]\n",
            " ['Male' 'Yes' '0' ... 0.0 5.003946305945459 5681.0]\n",
            " ...\n",
            " ['Male' 'Yes' '3+' ... 1.0 5.298317366548036 8334.0]\n",
            " ['Male' 'Yes' '0' ... 1.0 5.075173815233827 6033.0]\n",
            " ['Female' 'Yes' '0' ... 1.0 5.204006687076795 6486.0]]\n"
          ]
        }
      ]
    },
    {
      "cell_type": "code",
      "source": [
        "from sklearn.preprocessing import LabelEncoder\n",
        "LabelEncoder_x=LabelEncoder()\n",
        "for i in range(0,5):\n",
        "  X_train[:,i]=LabelEncoder_x.fit_transform(X_train[:,i])\n",
        "X_train[:,7]=LabelEncoder_x.fit_transform(X_train[:,7])"
      ],
      "metadata": {
        "id": "3UCzvpKKW2BH"
      },
      "execution_count": 20,
      "outputs": []
    },
    {
      "cell_type": "code",
      "source": [
        "X_train"
      ],
      "metadata": {
        "colab": {
          "base_uri": "https://localhost:8080/"
        },
        "id": "MJiYKKjKW2Ht",
        "outputId": "394d9dc6-aa93-468f-aa3d-2b9840d69b6c"
      },
      "execution_count": 21,
      "outputs": [
        {
          "output_type": "execute_result",
          "data": {
            "text/plain": [
              "array([[1, 1, 0, ..., 1.0, 4.875197323201151, 267],\n",
              "       [1, 0, 1, ..., 1.0, 5.278114659230517, 407],\n",
              "       [1, 1, 0, ..., 0.0, 5.003946305945459, 249],\n",
              "       ...,\n",
              "       [1, 1, 3, ..., 1.0, 5.298317366548036, 363],\n",
              "       [1, 1, 0, ..., 1.0, 5.075173815233827, 273],\n",
              "       [0, 1, 0, ..., 1.0, 5.204006687076795, 301]], dtype=object)"
            ]
          },
          "metadata": {},
          "execution_count": 21
        }
      ]
    },
    {
      "cell_type": "code",
      "source": [
        "LabelEncoder_y=LabelEncoder()\n",
        "y_train=LabelEncoder_y.fit_transform(y_train)"
      ],
      "metadata": {
        "id": "KdEzmJyAW2Ot"
      },
      "execution_count": 22,
      "outputs": []
    },
    {
      "cell_type": "code",
      "source": [
        "y_train"
      ],
      "metadata": {
        "colab": {
          "base_uri": "https://localhost:8080/"
        },
        "id": "0vCBTNUPoA8W",
        "outputId": "2ef6642f-ce28-4f38-f576-914792173850"
      },
      "execution_count": 23,
      "outputs": [
        {
          "output_type": "execute_result",
          "data": {
            "text/plain": [
              "array([1, 0, 0, 1, 1, 0, 1, 1, 1, 0, 0, 1, 1, 1, 1, 1, 1, 1, 1, 0, 1, 1,\n",
              "       0, 1, 1, 0, 0, 1, 1, 1, 0, 1, 1, 1, 1, 1, 0, 1, 0, 1, 0, 1, 1, 1,\n",
              "       1, 0, 0, 0, 1, 1, 1, 0, 1, 1, 1, 1, 1, 1, 1, 1, 0, 1, 0, 1, 1, 0,\n",
              "       1, 1, 1, 1, 1, 0, 0, 1, 1, 0, 1, 0, 0, 1, 0, 0, 1, 1, 1, 1, 1, 1,\n",
              "       1, 1, 0, 1, 0, 1, 0, 1, 1, 1, 1, 0, 0, 1, 1, 1, 0, 1, 1, 0, 0, 0,\n",
              "       1, 1, 1, 0, 1, 0, 0, 1, 0, 0, 0, 1, 1, 1, 1, 1, 0, 0, 0, 0, 1, 1,\n",
              "       0, 1, 1, 1, 1, 1, 1, 0, 0, 1, 1, 1, 1, 1, 0, 1, 1, 1, 1, 1, 1, 1,\n",
              "       1, 1, 1, 0, 1, 1, 1, 1, 1, 1, 1, 1, 1, 1, 1, 0, 0, 1, 1, 1, 1, 0,\n",
              "       0, 1, 0, 1, 0, 0, 0, 1, 0, 1, 1, 1, 1, 1, 0, 0, 1, 0, 1, 1, 1, 1,\n",
              "       0, 0, 1, 1, 1, 1, 1, 0, 0, 1, 1, 1, 1, 0, 1, 1, 1, 1, 0, 0, 1, 1,\n",
              "       0, 1, 1, 1, 0, 1, 1, 1, 0, 1, 0, 1, 0, 1, 1, 0, 0, 0, 1, 0, 1, 1,\n",
              "       1, 1, 1, 0, 1, 1, 1, 1, 1, 1, 0, 1, 0, 1, 0, 1, 1, 1, 1, 1, 1, 1,\n",
              "       1, 1, 0, 0, 1, 0, 1, 1, 1, 0, 1, 1, 0, 1, 0, 1, 0, 1, 1, 1, 1, 1,\n",
              "       1, 1, 1, 1, 0, 1, 1, 0, 1, 1, 1, 0, 0, 1, 1, 1, 1, 0, 1, 0, 1, 1,\n",
              "       1, 1, 1, 0, 1, 0, 1, 0, 0, 1, 1, 0, 1, 1, 0, 1, 1, 0, 0, 1, 1, 1,\n",
              "       1, 1, 1, 0, 1, 1, 1, 0, 1, 0, 0, 0, 0, 1, 1, 1, 1, 0, 0, 1, 1, 1,\n",
              "       1, 0, 1, 0, 1, 1, 1, 1, 1, 0, 1, 1, 1, 1, 1, 1, 1, 0, 1, 0, 0, 0,\n",
              "       1, 1, 0, 1, 1, 1, 1, 0, 1, 1, 0, 1, 0, 0, 0, 1, 1, 1, 1, 1, 1, 1,\n",
              "       1, 0, 1, 0, 1, 1, 1, 0, 1, 1, 1, 0, 0, 1, 1, 1, 1, 0, 1, 1, 1, 1,\n",
              "       1, 1, 0, 1, 0, 1, 0, 1, 1, 0, 0, 1, 1, 0, 1, 1, 1, 1, 1, 1, 1, 0,\n",
              "       1, 1, 0, 0, 1, 0, 1, 1, 1, 1, 1, 1, 1, 0, 0, 1, 0, 0, 0, 0, 0, 1,\n",
              "       1, 1, 1, 1, 1, 0, 1, 0, 1, 0, 0, 1, 1, 1, 0, 1, 1, 0, 0, 0, 0, 1,\n",
              "       1, 1, 1, 0, 1, 0, 1])"
            ]
          },
          "metadata": {},
          "execution_count": 23
        }
      ]
    },
    {
      "cell_type": "code",
      "source": [
        "for i in range(0,5):\n",
        "  X_test[:,i]=LabelEncoder_x.fit_transform(X_test[:,i])\n",
        "X_test[:,7]=LabelEncoder_x.fit_transform(X_test[:,7])\n",
        "y_test=LabelEncoder_y.fit_transform(y_test)"
      ],
      "metadata": {
        "id": "2VVCDudiW2Ve"
      },
      "execution_count": 24,
      "outputs": []
    },
    {
      "cell_type": "code",
      "source": [
        "X_test,y_test"
      ],
      "metadata": {
        "colab": {
          "base_uri": "https://localhost:8080/"
        },
        "id": "op_YxYZcW2dQ",
        "outputId": "5e5eabc1-4b60-4cc6-e057-6132b7a3c0a7"
      },
      "execution_count": 25,
      "outputs": [
        {
          "output_type": "execute_result",
          "data": {
            "text/plain": [
              "(array([[1, 0, 0, 0, 5, 1.0, 4.430816798843313, 85],\n",
              "        [0, 0, 0, 0, 5, 1.0, 4.718498871295094, 28],\n",
              "        [1, 1, 0, 0, 5, 1.0, 5.780743515792329, 104],\n",
              "        [1, 1, 0, 0, 5, 1.0, 4.700480365792417, 80],\n",
              "        [1, 1, 2, 0, 5, 1.0, 4.574710978503383, 22],\n",
              "        [1, 1, 0, 1, 3, 0.0, 5.10594547390058, 70],\n",
              "        [1, 1, 3, 0, 3, 1.0, 5.056245805348308, 77],\n",
              "        [1, 0, 0, 0, 5, 1.0, 6.003887067106539, 114],\n",
              "        [1, 0, 0, 0, 5, 0.0, 4.820281565605037, 53],\n",
              "        [1, 1, 0, 0, 5, 1.0, 4.852030263919617, 55],\n",
              "        [0, 0, 0, 0, 5, 1.0, 4.430816798843313, 4],\n",
              "        [1, 1, 1, 0, 5, 1.0, 4.553876891600541, 2],\n",
              "        [0, 0, 0, 0, 5, 1.0, 5.634789603169249, 96],\n",
              "        [1, 1, 2, 0, 5, 1.0, 5.4638318050256105, 97],\n",
              "        [1, 1, 0, 0, 5, 1.0, 4.564348191467836, 117],\n",
              "        [1, 1, 1, 0, 5, 1.0, 4.204692619390966, 22],\n",
              "        [1, 0, 1, 1, 5, 1.0, 5.247024072160486, 32],\n",
              "        [1, 0, 0, 1, 5, 1.0, 4.882801922586371, 25],\n",
              "        [0, 0, 0, 0, 5, 1.0, 4.532599493153256, 1],\n",
              "        [1, 1, 0, 1, 5, 0.0, 5.198497031265826, 44],\n",
              "        [0, 1, 0, 0, 5, 0.0, 4.787491742782046, 71],\n",
              "        [1, 1, 0, 0, 5, 1.0, 4.962844630259907, 43],\n",
              "        [1, 1, 2, 0, 5, 1.0, 4.68213122712422, 91],\n",
              "        [1, 1, 2, 0, 5, 1.0, 5.10594547390058, 111],\n",
              "        [1, 1, 0, 0, 5, 1.0, 4.060443010546419, 35],\n",
              "        [1, 1, 1, 0, 5, 1.0, 5.521460917862246, 94],\n",
              "        [1, 0, 0, 0, 5, 1.0, 5.231108616854587, 98],\n",
              "        [1, 1, 0, 0, 5, 1.0, 5.231108616854587, 110],\n",
              "        [1, 1, 3, 0, 5, 0.0, 4.852030263919617, 41],\n",
              "        [0, 0, 0, 0, 5, 0.0, 4.634728988229636, 50],\n",
              "        [1, 1, 0, 0, 5, 1.0, 5.429345628954441, 99],\n",
              "        [1, 0, 0, 1, 5, 1.0, 3.871201010907891, 46],\n",
              "        [1, 1, 1, 1, 5, 1.0, 4.499809670330265, 52],\n",
              "        [1, 1, 0, 0, 5, 1.0, 5.19295685089021, 102],\n",
              "        [1, 1, 0, 0, 5, 1.0, 4.986425672954842, 95],\n",
              "        [0, 1, 0, 1, 5, 0.0, 5.181783550292085, 57],\n",
              "        [1, 1, 0, 0, 5, 1.0, 5.147494476813453, 65],\n",
              "        [1, 0, 0, 1, 5, 1.0, 4.836281906951478, 39],\n",
              "        [1, 1, 0, 0, 5, 1.0, 4.852030263919617, 75],\n",
              "        [1, 1, 2, 1, 5, 1.0, 4.68213122712422, 24],\n",
              "        [0, 0, 0, 0, 5, 1.0, 4.382026634673881, 9],\n",
              "        [1, 1, 3, 0, 5, 0.0, 4.812184355372417, 68],\n",
              "        [1, 1, 2, 0, 2, 1.0, 2.833213344056216, 0],\n",
              "        [1, 1, 1, 1, 5, 1.0, 5.062595033026967, 67],\n",
              "        [1, 0, 0, 0, 5, 1.0, 4.330733340286331, 21],\n",
              "        [1, 0, 0, 0, 5, 1.0, 5.231108616854587, 113],\n",
              "        [1, 1, 1, 0, 5, 1.0, 4.7535901911063645, 18],\n",
              "        [0, 0, 0, 0, 5, 1.0, 4.74493212836325, 37],\n",
              "        [1, 1, 1, 0, 5, 1.0, 4.852030263919617, 72],\n",
              "        [1, 0, 0, 0, 5, 1.0, 4.941642422609304, 78],\n",
              "        [1, 1, 3, 1, 5, 1.0, 4.30406509320417, 8],\n",
              "        [1, 1, 0, 0, 5, 1.0, 4.867534450455582, 84],\n",
              "        [1, 1, 0, 1, 5, 1.0, 4.672828834461906, 31],\n",
              "        [1, 0, 0, 0, 5, 1.0, 4.986425672954842, 61],\n",
              "        [1, 1, 0, 0, 5, 1.0, 4.718498871295094, 19],\n",
              "        [1, 1, 0, 0, 5, 1.0, 5.556828061699537, 107],\n",
              "        [1, 1, 0, 0, 5, 1.0, 4.553876891600541, 34],\n",
              "        [1, 0, 0, 1, 5, 1.0, 4.890349128221754, 74],\n",
              "        [1, 1, 2, 0, 5, 1.0, 5.123963979403259, 62],\n",
              "        [1, 0, 0, 0, 5, 1.0, 4.787491742782046, 27],\n",
              "        [0, 0, 0, 0, 5, 0.0, 4.919980925828125, 108],\n",
              "        [0, 0, 0, 0, 5, 1.0, 5.365976015021851, 103],\n",
              "        [1, 1, 0, 1, 5, 1.0, 4.74493212836325, 38],\n",
              "        [0, 0, 0, 0, 5, 0.0, 4.330733340286331, 13],\n",
              "        [1, 1, 2, 0, 5, 1.0, 4.890349128221754, 69],\n",
              "        [1, 1, 1, 0, 5, 1.0, 5.752572638825633, 112],\n",
              "        [1, 1, 0, 0, 5, 1.0, 5.075173815233827, 73],\n",
              "        [1, 0, 0, 0, 5, 1.0, 4.912654885736052, 47],\n",
              "        [1, 1, 0, 0, 5, 1.0, 5.204006687076795, 81],\n",
              "        [1, 0, 0, 1, 5, 1.0, 4.564348191467836, 60],\n",
              "        [1, 0, 0, 0, 5, 1.0, 4.204692619390966, 83],\n",
              "        [0, 1, 0, 0, 5, 1.0, 4.867534450455582, 5],\n",
              "        [1, 1, 2, 1, 5, 1.0, 5.056245805348308, 58],\n",
              "        [1, 1, 1, 1, 3, 1.0, 4.919980925828125, 79],\n",
              "        [0, 1, 0, 0, 5, 1.0, 4.969813299576001, 54],\n",
              "        [1, 1, 0, 1, 4, 1.0, 4.820281565605037, 56],\n",
              "        [1, 0, 0, 0, 5, 1.0, 4.499809670330265, 120],\n",
              "        [1, 0, 3, 0, 5, 1.0, 5.768320995793772, 118],\n",
              "        [1, 1, 2, 0, 5, 1.0, 4.718498871295094, 101],\n",
              "        [0, 0, 0, 0, 5, 0.0, 4.7535901911063645, 26],\n",
              "        [0, 0, 0, 0, 6, 1.0, 4.727387818712341, 33],\n",
              "        [1, 1, 1, 0, 5, 1.0, 6.214608098422191, 119],\n",
              "        [0, 0, 0, 0, 5, 1.0, 5.267858159063328, 89],\n",
              "        [1, 1, 2, 0, 5, 1.0, 5.231108616854587, 92],\n",
              "        [1, 0, 0, 0, 6, 1.0, 4.2626798770413155, 6],\n",
              "        [1, 1, 0, 0, 0, 1.0, 4.709530201312334, 90],\n",
              "        [1, 1, 0, 0, 5, 1.0, 4.700480365792417, 45],\n",
              "        [1, 1, 2, 0, 5, 1.0, 5.298317366548036, 109],\n",
              "        [1, 0, 1, 0, 3, 1.0, 4.727387818712341, 17],\n",
              "        [1, 1, 1, 0, 5, 1.0, 4.6443908991413725, 36],\n",
              "        [0, 1, 0, 1, 5, 1.0, 4.605170185988092, 16],\n",
              "        [1, 0, 0, 0, 5, 1.0, 4.30406509320417, 7],\n",
              "        [1, 1, 1, 0, 1, 1.0, 5.147494476813453, 88],\n",
              "        [1, 1, 3, 0, 4, 0.0, 5.19295685089021, 87],\n",
              "        [0, 0, 0, 0, 5, 1.0, 4.2626798770413155, 3],\n",
              "        [1, 0, 0, 1, 3, 0.0, 4.836281906951478, 59],\n",
              "        [1, 0, 0, 0, 3, 1.0, 5.1647859739235145, 82],\n",
              "        [1, 0, 0, 0, 5, 1.0, 4.969813299576001, 66],\n",
              "        [1, 1, 2, 1, 5, 1.0, 4.394449154672439, 51],\n",
              "        [1, 1, 1, 0, 5, 1.0, 5.231108616854587, 100],\n",
              "        [1, 1, 0, 0, 5, 1.0, 5.351858133476067, 93],\n",
              "        [1, 1, 0, 0, 5, 1.0, 4.605170185988092, 15],\n",
              "        [1, 1, 2, 0, 5, 1.0, 4.787491742782046, 106],\n",
              "        [1, 0, 0, 0, 3, 1.0, 4.787491742782046, 105],\n",
              "        [1, 1, 3, 0, 5, 1.0, 4.852030263919617, 64],\n",
              "        [1, 0, 0, 0, 5, 1.0, 4.8283137373023015, 49],\n",
              "        [1, 0, 0, 1, 5, 1.0, 4.6443908991413725, 42],\n",
              "        [0, 0, 0, 0, 5, 1.0, 4.477336814478207, 10],\n",
              "        [1, 1, 0, 1, 5, 1.0, 4.553876891600541, 20],\n",
              "        [1, 1, 3, 1, 3, 1.0, 4.394449154672439, 14],\n",
              "        [1, 0, 0, 0, 5, 1.0, 5.298317366548036, 76],\n",
              "        [0, 0, 0, 0, 5, 1.0, 4.90527477843843, 11],\n",
              "        [1, 0, 0, 0, 6, 1.0, 4.727387818712341, 18],\n",
              "        [1, 1, 2, 0, 5, 1.0, 4.248495242049359, 23],\n",
              "        [1, 1, 0, 1, 5, 0.0, 5.303304908059076, 63],\n",
              "        [1, 1, 0, 0, 3, 0.0, 4.499809670330265, 48],\n",
              "        [0, 0, 0, 0, 5, 1.0, 4.430816798843313, 30],\n",
              "        [1, 0, 0, 0, 5, 1.0, 4.897839799950911, 29],\n",
              "        [1, 1, 2, 0, 5, 1.0, 5.170483995038151, 86],\n",
              "        [1, 1, 3, 0, 5, 1.0, 4.867534450455582, 115],\n",
              "        [1, 1, 0, 0, 5, 1.0, 6.077642243349034, 116],\n",
              "        [1, 1, 3, 1, 3, 0.0, 4.248495242049359, 40],\n",
              "        [1, 1, 1, 0, 5, 1.0, 4.564348191467836, 12]], dtype=object),\n",
              " array([1, 0, 1, 0, 1, 0, 1, 1, 0, 1, 1, 1, 1, 1, 1, 0, 0, 1, 1, 0, 0, 1,\n",
              "        1, 1, 1, 1, 1, 1, 0, 0, 1, 1, 1, 1, 1, 0, 1, 1, 1, 1, 1, 0, 1, 1,\n",
              "        1, 1, 1, 1, 0, 1, 1, 1, 1, 1, 1, 1, 1, 0, 1, 1, 1, 0, 1, 0, 1, 1,\n",
              "        1, 1, 1, 1, 0, 1, 1, 1, 1, 1, 0, 0, 1, 0, 1, 0, 0, 1, 0, 1, 1, 1,\n",
              "        1, 1, 1, 0, 0, 0, 1, 0, 1, 1, 1, 1, 1, 1, 1, 0, 1, 1, 1, 1, 1, 0,\n",
              "        1, 0, 0, 1, 0, 1, 1, 1, 1, 1, 1, 0, 1]))"
            ]
          },
          "metadata": {},
          "execution_count": 25
        }
      ]
    },
    {
      "cell_type": "code",
      "source": [
        "from sklearn.preprocessing import StandardScaler\n",
        "ss=StandardScaler()\n",
        "X_train=ss.fit_transform(X_train)\n",
        "X_test=ss.fit_transform(X_test)"
      ],
      "metadata": {
        "id": "9kP7lqgMW2j-"
      },
      "execution_count": 34,
      "outputs": []
    },
    {
      "cell_type": "code",
      "source": [
        "from sklearn.tree import DecisionTreeClassifier\n",
        "dtc=DecisionTreeClassifier(criterion='entropy',random_state=0)\n",
        "dtc.fit(X_train,y_train)"
      ],
      "metadata": {
        "colab": {
          "base_uri": "https://localhost:8080/",
          "height": 74
        },
        "id": "6EuFsTPMoqgN",
        "outputId": "55c504c2-41f2-4ac7-8e55-aba594c08fbf"
      },
      "execution_count": 35,
      "outputs": [
        {
          "output_type": "execute_result",
          "data": {
            "text/plain": [
              "DecisionTreeClassifier(criterion='entropy', random_state=0)"
            ],
            "text/html": [
              "<style>#sk-container-id-2 {color: black;background-color: white;}#sk-container-id-2 pre{padding: 0;}#sk-container-id-2 div.sk-toggleable {background-color: white;}#sk-container-id-2 label.sk-toggleable__label {cursor: pointer;display: block;width: 100%;margin-bottom: 0;padding: 0.3em;box-sizing: border-box;text-align: center;}#sk-container-id-2 label.sk-toggleable__label-arrow:before {content: \"▸\";float: left;margin-right: 0.25em;color: #696969;}#sk-container-id-2 label.sk-toggleable__label-arrow:hover:before {color: black;}#sk-container-id-2 div.sk-estimator:hover label.sk-toggleable__label-arrow:before {color: black;}#sk-container-id-2 div.sk-toggleable__content {max-height: 0;max-width: 0;overflow: hidden;text-align: left;background-color: #f0f8ff;}#sk-container-id-2 div.sk-toggleable__content pre {margin: 0.2em;color: black;border-radius: 0.25em;background-color: #f0f8ff;}#sk-container-id-2 input.sk-toggleable__control:checked~div.sk-toggleable__content {max-height: 200px;max-width: 100%;overflow: auto;}#sk-container-id-2 input.sk-toggleable__control:checked~label.sk-toggleable__label-arrow:before {content: \"▾\";}#sk-container-id-2 div.sk-estimator input.sk-toggleable__control:checked~label.sk-toggleable__label {background-color: #d4ebff;}#sk-container-id-2 div.sk-label input.sk-toggleable__control:checked~label.sk-toggleable__label {background-color: #d4ebff;}#sk-container-id-2 input.sk-hidden--visually {border: 0;clip: rect(1px 1px 1px 1px);clip: rect(1px, 1px, 1px, 1px);height: 1px;margin: -1px;overflow: hidden;padding: 0;position: absolute;width: 1px;}#sk-container-id-2 div.sk-estimator {font-family: monospace;background-color: #f0f8ff;border: 1px dotted black;border-radius: 0.25em;box-sizing: border-box;margin-bottom: 0.5em;}#sk-container-id-2 div.sk-estimator:hover {background-color: #d4ebff;}#sk-container-id-2 div.sk-parallel-item::after {content: \"\";width: 100%;border-bottom: 1px solid gray;flex-grow: 1;}#sk-container-id-2 div.sk-label:hover label.sk-toggleable__label {background-color: #d4ebff;}#sk-container-id-2 div.sk-serial::before {content: \"\";position: absolute;border-left: 1px solid gray;box-sizing: border-box;top: 0;bottom: 0;left: 50%;z-index: 0;}#sk-container-id-2 div.sk-serial {display: flex;flex-direction: column;align-items: center;background-color: white;padding-right: 0.2em;padding-left: 0.2em;position: relative;}#sk-container-id-2 div.sk-item {position: relative;z-index: 1;}#sk-container-id-2 div.sk-parallel {display: flex;align-items: stretch;justify-content: center;background-color: white;position: relative;}#sk-container-id-2 div.sk-item::before, #sk-container-id-2 div.sk-parallel-item::before {content: \"\";position: absolute;border-left: 1px solid gray;box-sizing: border-box;top: 0;bottom: 0;left: 50%;z-index: -1;}#sk-container-id-2 div.sk-parallel-item {display: flex;flex-direction: column;z-index: 1;position: relative;background-color: white;}#sk-container-id-2 div.sk-parallel-item:first-child::after {align-self: flex-end;width: 50%;}#sk-container-id-2 div.sk-parallel-item:last-child::after {align-self: flex-start;width: 50%;}#sk-container-id-2 div.sk-parallel-item:only-child::after {width: 0;}#sk-container-id-2 div.sk-dashed-wrapped {border: 1px dashed gray;margin: 0 0.4em 0.5em 0.4em;box-sizing: border-box;padding-bottom: 0.4em;background-color: white;}#sk-container-id-2 div.sk-label label {font-family: monospace;font-weight: bold;display: inline-block;line-height: 1.2em;}#sk-container-id-2 div.sk-label-container {text-align: center;}#sk-container-id-2 div.sk-container {/* jupyter's `normalize.less` sets `[hidden] { display: none; }` but bootstrap.min.css set `[hidden] { display: none !important; }` so we also need the `!important` here to be able to override the default hidden behavior on the sphinx rendered scikit-learn.org. See: https://github.com/scikit-learn/scikit-learn/issues/21755 */display: inline-block !important;position: relative;}#sk-container-id-2 div.sk-text-repr-fallback {display: none;}</style><div id=\"sk-container-id-2\" class=\"sk-top-container\"><div class=\"sk-text-repr-fallback\"><pre>DecisionTreeClassifier(criterion=&#x27;entropy&#x27;, random_state=0)</pre><b>In a Jupyter environment, please rerun this cell to show the HTML representation or trust the notebook. <br />On GitHub, the HTML representation is unable to render, please try loading this page with nbviewer.org.</b></div><div class=\"sk-container\" hidden><div class=\"sk-item\"><div class=\"sk-estimator sk-toggleable\"><input class=\"sk-toggleable__control sk-hidden--visually\" id=\"sk-estimator-id-2\" type=\"checkbox\" checked><label for=\"sk-estimator-id-2\" class=\"sk-toggleable__label sk-toggleable__label-arrow\">DecisionTreeClassifier</label><div class=\"sk-toggleable__content\"><pre>DecisionTreeClassifier(criterion=&#x27;entropy&#x27;, random_state=0)</pre></div></div></div></div></div>"
            ]
          },
          "metadata": {},
          "execution_count": 35
        }
      ]
    },
    {
      "cell_type": "code",
      "source": [
        "y_pred=dtc.predict(X_test)\n",
        "y_pred"
      ],
      "metadata": {
        "colab": {
          "base_uri": "https://localhost:8080/"
        },
        "id": "PuVP6le8oqcs",
        "outputId": "b0507ac5-5a18-4ac7-c04b-3632ee5b2167"
      },
      "execution_count": 36,
      "outputs": [
        {
          "output_type": "execute_result",
          "data": {
            "text/plain": [
              "array([0, 1, 0, 1, 1, 1, 1, 1, 0, 1, 0, 1, 0, 1, 1, 1, 0, 1, 1, 0, 0, 1,\n",
              "       1, 1, 1, 1, 1, 1, 0, 0, 1, 1, 0, 1, 1, 0, 1, 1, 1, 1, 0, 0, 0, 0,\n",
              "       1, 1, 1, 1, 1, 1, 0, 1, 1, 1, 1, 0, 1, 1, 1, 1, 0, 1, 1, 0, 1, 1,\n",
              "       1, 0, 0, 1, 1, 1, 1, 1, 1, 1, 1, 0, 1, 0, 1, 0, 0, 1, 1, 1, 1, 1,\n",
              "       1, 1, 1, 1, 1, 0, 1, 0, 0, 0, 0, 0, 1, 1, 1, 1, 0, 1, 1, 0, 1, 0,\n",
              "       0, 0, 1, 1, 0, 0, 0, 1, 0, 1, 1, 0, 1])"
            ]
          },
          "metadata": {},
          "execution_count": 36
        }
      ]
    },
    {
      "cell_type": "code",
      "source": [
        "from sklearn import metrics\n",
        "print(\"accuracy of decision tree is :\", metrics.accuracy_score(y_pred,y_test))\n",
        "from sklearn.metrics import accuracy_score, precision_score, f1_score,confusion_matrix\n",
        "precision = precision_score(y_test, y_pred)\n",
        "print(\"Precision:\", precision)\n",
        "\n",
        "\n",
        "f1 = f1_score(y_test, y_pred)\n",
        "print(\"F1 Score:\", f1)\n",
        "\n",
        "cm = confusion_matrix(y_test, y_pred)\n",
        "plt.figure(figsize=(8, 6))\n",
        "sns.heatmap(cm, annot=True, cmap='Blues', fmt='g', xticklabels=['No', 'Yes'], yticklabels=['No', 'Yes'])\n",
        "plt.xlabel('Predicted')\n",
        "plt.ylabel('True')\n",
        "plt.title('Confusion Matrix -decision tree')\n",
        "plt.show()\n",
        "mse = mean_squared_error(y_test, y_pred)\n",
        "print(\"Mean Squared Error:\", mse)\n",
        "\n",
        "r_squared = r2_score(y_test, y_pred)\n",
        "print(\"R-squared:\", r_squared)"
      ],
      "metadata": {
        "colab": {
          "base_uri": "https://localhost:8080/",
          "height": 651
        },
        "id": "pAxcrCIooqZ2",
        "outputId": "222b9709-e18d-40b4-d0cf-9260e5432806"
      },
      "execution_count": 52,
      "outputs": [
        {
          "output_type": "stream",
          "name": "stdout",
          "text": [
            "accuracy of decision tree is : 0.8292682926829268\n",
            "Precision: 0.822429906542056\n",
            "F1 Score: 0.8934010152284264\n"
          ]
        },
        {
          "output_type": "display_data",
          "data": {
            "text/plain": [
              "<Figure size 800x600 with 2 Axes>"
            ],
            "image/png": "[encoded data removed]"
          },
          "metadata": {}
        },
        {
          "output_type": "stream",
          "name": "stdout",
          "text": [
            "Mean Squared Error: 0.17073170731707318\n",
            "R-squared: 0.13030303030303036\n"
          ]
        }
      ]
    },
    {
      "cell_type": "code",
      "source": [
        "from sklearn.svm import SVC\n",
        "from sklearn.metrics import accuracy_score\n",
        "svm = SVC()\n",
        "svm.fit(X_train, y_train)\n",
        "\n",
        "\n",
        "y_pred = svm.predict(X_test)\n",
        "\n",
        "y_pred\n",
        "accuracy = accuracy_score(y_test, y_pred)\n",
        "print(\"Accuracy of svm:\", accuracy)\n",
        "\n",
        "\n",
        "precision = precision_score(y_test, y_pred)\n",
        "print(\"Precision:\", precision)\n",
        "\n",
        "\n",
        "f1 = f1_score(y_test, y_pred)\n",
        "print(\"F1 Score:\", f1)\n",
        "\n",
        "mse = mean_squared_error(y_test, y_pred)\n",
        "print(\"Mean Squared Error:\", mse)\n",
        "\n",
        "r_squared = r2_score(y_test, y_pred)\n",
        "print(\"R-squared:\", r_squared)"
      ],
      "metadata": {
        "colab": {
          "base_uri": "https://localhost:8080/"
        },
        "id": "pERkZXkAoqWz",
        "outputId": "6a6edea2-be73-46cb-f6a1-a4de6888fb05"
      },
      "execution_count": 51,
      "outputs": [
        {
          "output_type": "stream",
          "name": "stdout",
          "text": [
            "Accuracy of svm: 0.8292682926829268\n",
            "Precision: 0.822429906542056\n",
            "F1 Score: 0.8934010152284264\n",
            "Mean Squared Error: 0.17073170731707318\n",
            "R-squared: 0.13030303030303036\n"
          ]
        }
      ]
    },
    {
      "cell_type": "code",
      "source": [
        "from sklearn.ensemble import RandomForestClassifier\n",
        "random_forest = RandomForestClassifier()\n",
        "random_forest.fit(X_train, y_train)\n",
        "\n",
        "\n",
        "y_pred = random_forest.predict(X_test)\n",
        "\n",
        "\n",
        "accuracy = accuracy_score(y_pred, y_test)\n",
        "print(\"Accuracy of random forest:\", accuracy)\n",
        "\n",
        "\n",
        "precision = precision_score(y_test, y_pred)\n",
        "print(\"Precision:\", precision)\n",
        "\n",
        "\n",
        "f1 = f1_score(y_test, y_pred)\n",
        "print(\"F1 Score:\", f1)\n",
        "\n",
        "mse = mean_squared_error(y_test, y_pred)\n",
        "print(\"Mean Squared Error:\", mse)\n",
        "\n",
        "r_squared = r2_score(y_test, y_pred)\n",
        "print(\"R-squared:\", r_squared)\n"
      ],
      "metadata": {
        "colab": {
          "base_uri": "https://localhost:8080/"
        },
        "id": "3T5HU9nKoqT0",
        "outputId": "e9576039-5b13-4bbf-e455-29f772802da4"
      },
      "execution_count": 50,
      "outputs": [
        {
          "output_type": "stream",
          "name": "stdout",
          "text": [
            "Accuracy of random forest: 0.7804878048780488\n",
            "Precision: 0.8247422680412371\n",
            "F1 Score: 0.8556149732620321\n",
            "Mean Squared Error: 0.21951219512195122\n",
            "R-squared: -0.11818181818181817\n"
          ]
        }
      ]
    },
    {
      "cell_type": "code",
      "source": [
        "from sklearn.linear_model import LinearRegression, LogisticRegression\n",
        "from sklearn.metrics import mean_squared_error, r2_score\n",
        "linear_reg = LinearRegression()\n",
        "linear_reg.fit(X_train, y_train)\n",
        "\n",
        "\n",
        "y_pred = linear_reg.predict(X_test)\n",
        "\n",
        "\n",
        "\n",
        "mse = mean_squared_error(y_test, y_pred)\n",
        "print(\"Mean Squared Error:\", mse)\n",
        "\n",
        "r_squared = r2_score(y_test, y_pred)\n",
        "print(\"R-squared:\", r_squared)"
      ],
      "metadata": {
        "colab": {
          "base_uri": "https://localhost:8080/"
        },
        "id": "XMyuGYL9oqQ2",
        "outputId": "425576e0-49d1-421b-9acf-3db60a1eab5c"
      },
      "execution_count": 54,
      "outputs": [
        {
          "output_type": "stream",
          "name": "stdout",
          "text": [
            "Mean Squared Error: 0.1428033187973301\n",
            "R-squared: 0.2725685487929942\n"
          ]
        }
      ]
    },
    {
      "cell_type": "code",
      "source": [
        "from sklearn.metrics import accuracy_score, precision_score, f1_score,confusion_matrix\n",
        "logistic_reg = LogisticRegression()\n",
        "logistic_reg.fit(X_train, y_train)\n",
        "\n",
        "y_pred = logistic_reg.predict(X_test)\n",
        "\n",
        "accuracy = accuracy_score(y_test, y_pred)\n",
        "print(\"Accuracy:\", accuracy)\n",
        "\n",
        "precision = precision_score(y_test, y_pred)\n",
        "print(\"Precision:\", precision)\n",
        "\n",
        "\n",
        "f1 = f1_score(y_test, y_pred)\n",
        "print(\"F1 Score:\", f1)\n",
        "\n",
        "cm = confusion_matrix(y_test, y_pred)\n",
        "plt.figure(figsize=(8, 6))\n",
        "sns.heatmap(cm, annot=True, cmap='Blues', fmt='g', xticklabels=['No', 'Yes'], yticklabels=['No', 'Yes'])\n",
        "plt.xlabel('Predicted')\n",
        "plt.ylabel('True')\n",
        "plt.title('Confusion Matrix - Logistic Regression')\n",
        "plt.show()\n",
        "mse = mean_squared_error(y_test, y_pred)\n",
        "print(\"Mean Squared Error:\", mse)\n",
        "\n",
        "r_squared = r2_score(y_test, y_pred)\n",
        "print(\"R-squared:\", r_squared)"
      ],
      "metadata": {
        "colab": {
          "base_uri": "https://localhost:8080/",
          "height": 651
        },
        "id": "GB-ZxdgEoqNy",
        "outputId": "3cd64776-db12-4d85-ffa6-6c1f37aa7677"
      },
      "execution_count": 48,
      "outputs": [
        {
          "output_type": "stream",
          "name": "stdout",
          "text": [
            "Accuracy: 0.8292682926829268\n",
            "Precision: 0.822429906542056\n",
            "F1 Score: 0.8934010152284264\n"
          ]
        },
        {
          "output_type": "display_data",
          "data": {
            "text/plain": [
              "<Figure size 800x600 with 2 Axes>"
            ],
            "image/png": "[encoded data removed]"
          },
          "metadata": {}
        },
        {
          "output_type": "stream",
          "name": "stdout",
          "text": [
            "Mean Squared Error: 0.17073170731707318\n",
            "R-squared: 0.13030303030303036\n"
          ]
        }
      ]
    },
    {
      "cell_type": "code",
      "source": [
        "from sklearn.naive_bayes import GaussianNB\n",
        "naive_bayes = GaussianNB()\n",
        "naive_bayes.fit(X_train, y_train)\n",
        "\n",
        "y_pred = naive_bayes.predict(X_test)\n",
        "\n",
        "accuracy = accuracy_score(y_test, y_pred)\n",
        "print(\"Accuracy:\", accuracy)\n",
        "\n",
        "precision = precision_score(y_test, y_pred)\n",
        "print(\"Precision:\", precision)\n",
        "\n",
        "f1 = f1_score(y_test, y_pred)\n",
        "print(\"F1 Score:\", f1)\n",
        "mse = mean_squared_error(y_test, y_pred)\n",
        "print(\"Mean Squared Error:\", mse)\n",
        "\n",
        "r_squared = r2_score(y_test, y_pred)\n",
        "print(\"R-squared:\", r_squared)"
      ],
      "metadata": {
        "colab": {
          "base_uri": "https://localhost:8080/"
        },
        "id": "Px9qgkIyoqK8",
        "outputId": "328a3304-4f37-42dd-f479-c84bbc90c526"
      },
      "execution_count": 49,
      "outputs": [
        {
          "output_type": "stream",
          "name": "stdout",
          "text": [
            "Accuracy: 0.8292682926829268\n",
            "Precision: 0.822429906542056\n",
            "F1 Score: 0.8934010152284264\n",
            "Mean Squared Error: 0.17073170731707318\n",
            "R-squared: 0.13030303030303036\n"
          ]
        }
      ]
    },
    {
      "cell_type": "code",
      "source": [
        "target_related_columns = ['Gender', 'Married', 'Dependents', 'Education', 'Self_Employed', 'Credit_History', 'Property_Area']\n",
        "\n",
        "import matplotlib.pyplot as plt\n",
        "import seaborn as sns\n",
        "for column in target_related_columns:\n",
        "    plt.figure(figsize=(8, 6))\n",
        "    sns.countplot(x=column, hue='Loan_Status', data=df )\n",
        "    plt.title(f'Distribution of {column} by Loan Status')\n",
        "    plt.xlabel(column)\n",
        "    plt.ylabel('Count')\n",
        "    plt.legend(title='Loan Status', loc='upper right')\n",
        "    plt.show()"
      ],
      "metadata": {
        "colab": {
          "base_uri": "https://localhost:8080/",
          "height": 1000
        },
        "id": "dMzMspHToqEI",
        "outputId": "54a638b0-a599-40f3-bc27-40e8fa3ac4c2"
      },
      "execution_count": 47,
      "outputs": [
        {
          "output_type": "display_data",
          "data": {
            "text/plain": [
              "<Figure size 800x600 with 1 Axes>"
            ],
            "image/png": "[encoded data removed]"
          },
          "metadata": {}
        },
        {
          "output_type": "display_data",
          "data": {
            "text/plain": [
              "<Figure size 800x600 with 1 Axes>"
            ],
            "image/png": "[encoded data removed]"
          },
          "metadata": {}
        },
        {
          "output_type": "display_data",
          "data": {
            "text/plain": [
              "<Figure size 800x600 with 1 Axes>"
            ],
            "image/png": "[encoded data removed]"
          },
          "metadata": {}
        },
        {
          "output_type": "display_data",
          "data": {
            "text/plain": [
              "<Figure size 800x600 with 1 Axes>"
            ],
            "image/png": "[encoded data removed]"
          },
          "metadata": {}
        },
        {
          "output_type": "display_data",
          "data": {
            "text/plain": [
              "<Figure size 800x600 with 1 Axes>"
            ],
            "image/png": "[encoded data removed]"
          },
          "metadata": {}
        },
        {
          "output_type": "display_data",
          "data": {
            "text/plain": [
              "<Figure size 800x600 with 1 Axes>"
            ],
            "image/png": "[encoded data removed]"
          },
          "metadata": {}
        },
        {
          "output_type": "display_data",
          "data": {
            "text/plain": [
              "<Figure size 800x600 with 1 Axes>"
            ],
            "image/png": "[encoded data removed]"
          },
          "metadata": {}
        }
      ]
    },
    {
      "cell_type": "code",
      "source": [],
      "metadata": {
        "id": "RwsFsrzBoqAu"
      },
      "execution_count": null,
      "outputs": []
    },
    {
      "cell_type": "code",
      "source": [],
      "metadata": {
        "id": "JcOwtTaSop9q"
      },
      "execution_count": null,
      "outputs": []
    }
  ]
}